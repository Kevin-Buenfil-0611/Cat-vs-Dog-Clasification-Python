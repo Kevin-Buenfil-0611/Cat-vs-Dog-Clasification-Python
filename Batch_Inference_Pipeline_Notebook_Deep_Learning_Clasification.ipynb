{
  "cells": [
    {
      "cell_type": "code",
      "execution_count": 2,
      "metadata": {
        "id": "kez_pzI12ddB"
      },
      "outputs": [
        {
          "name": "stderr",
          "output_type": "stream",
          "text": [
            "WARNING:absl:Compiled the loaded model, but the compiled metrics have yet to be built. `model.compile_metrics` will be empty until you train or evaluate the model.\n"
          ]
        },
        {
          "name": "stdout",
          "output_type": "stream",
          "text": [
            "Found 10 validated image filenames.\n",
            "\u001b[1m1/1\u001b[0m \u001b[32m━━━━━━━━━━━━━━━━━━━━\u001b[0m\u001b[37m\u001b[0m \u001b[1m0s\u001b[0m 67ms/step\n",
            "Imagen: C:/Users/megag/Documents/Curso IA/Curso Avanzado/Deep Learning Clasification/Ejemplos\\Ejemplo 1.jpg -> Predicción: cat\n",
            "Imagen: C:/Users/megag/Documents/Curso IA/Curso Avanzado/Deep Learning Clasification/Ejemplos\\Ejemplo 10.jpg -> Predicción: dog\n",
            "Imagen: C:/Users/megag/Documents/Curso IA/Curso Avanzado/Deep Learning Clasification/Ejemplos\\Ejemplo 2.jpg -> Predicción: cat\n",
            "Imagen: C:/Users/megag/Documents/Curso IA/Curso Avanzado/Deep Learning Clasification/Ejemplos\\Ejemplo 3.jpg -> Predicción: cat\n",
            "Imagen: C:/Users/megag/Documents/Curso IA/Curso Avanzado/Deep Learning Clasification/Ejemplos\\Ejemplo 4.jpg -> Predicción: dog\n",
            "Imagen: C:/Users/megag/Documents/Curso IA/Curso Avanzado/Deep Learning Clasification/Ejemplos\\Ejemplo 5.jpg -> Predicción: cat\n",
            "Imagen: C:/Users/megag/Documents/Curso IA/Curso Avanzado/Deep Learning Clasification/Ejemplos\\Ejemplo 6.jpg -> Predicción: dog\n",
            "Imagen: C:/Users/megag/Documents/Curso IA/Curso Avanzado/Deep Learning Clasification/Ejemplos\\Ejemplo 7.jpg -> Predicción: dog\n",
            "Imagen: C:/Users/megag/Documents/Curso IA/Curso Avanzado/Deep Learning Clasification/Ejemplos\\Ejemplo 8.jpg -> Predicción: dog\n",
            "Imagen: C:/Users/megag/Documents/Curso IA/Curso Avanzado/Deep Learning Clasification/Ejemplos\\Ejemplo 9.jpg -> Predicción: dog\n",
            "Predicciones completadas y guardadas.\n"
          ]
        },
        {
          "name": "stderr",
          "output_type": "stream",
          "text": [
            "c:\\Users\\megag\\AppData\\Local\\Programs\\Python\\Python312\\Lib\\site-packages\\keras\\src\\trainers\\data_adapters\\py_dataset_adapter.py:122: UserWarning: Your `PyDataset` class should call `super().__init__(**kwargs)` in its constructor. `**kwargs` can include `workers`, `use_multiprocessing`, `max_queue_size`. Do not pass these arguments to `fit()`, as they will be ignored.\n",
            "  self._warn_if_super_not_called()\n"
          ]
        }
      ],
      "source": [
        "# Batch Inference Pipeline Notebook - Predicción\n",
        "import pandas as pd\n",
        "import numpy as np\n",
        "from tensorflow.keras.models import load_model\n",
        "from tensorflow.keras.preprocessing.image import ImageDataGenerator\n",
        "import os\n",
        "\n",
        "# Ruta del modelo guardado\n",
        "model_path = 'C:/Users/megag/Documents/Curso IA/Curso Avanzado/Deep Learning Clasification/cat_dog_classifier.h5'\n",
        "\n",
        "# Cargar el modelo\n",
        "model = load_model(model_path)\n",
        "\n",
        "# Crear un generador de imágenes para la inferencia\n",
        "inference_datagen = ImageDataGenerator(rescale=1./255)\n",
        "\n",
        "# Cargar nuevas imágenes para hacer predicciones\n",
        "new_images_dir = 'C:/Users/megag/Documents/Curso IA/Curso Avanzado/Deep Learning Clasification/Ejemplos'\n",
        "\n",
        "new_images = os.listdir(new_images_dir)\n",
        "\n",
        "# Crear un DataFrame para las nuevas imágenes\n",
        "new_data = pd.DataFrame({'image_path': [os.path.join(new_images_dir, img) for img in new_images]})\n",
        "\n",
        "# Crear un generador para el batch de imágenes\n",
        "inference_generator = inference_datagen.flow_from_dataframe(new_data, x_col='image_path', y_col=None,\n",
        "                                                            target_size=(150, 150), class_mode=None,\n",
        "                                                            batch_size=32, shuffle=False)\n",
        "\n",
        "# Hacer predicciones\n",
        "predictions = model.predict(inference_generator)\n",
        "predicted_labels = ['dog' if pred > 0.5 else 'cat' for pred in predictions]\n",
        "\n",
        "# Mostrar resultados\n",
        "for img_path, label in zip(new_data['image_path'], predicted_labels):\n",
        "    print(f\"Imagen: {img_path} -> Predicción: {label}\")\n",
        "\n",
        "# Guardar predicciones en archivo CSV\n",
        "new_data['prediction'] = predicted_labels\n",
        "new_data.to_csv('C:/Users/megag/Documents/Curso IA/Curso Avanzado/Deep Learning Clasification/inference_results.csv', index=False)\n",
        "\n",
        "print(\"Predicciones completadas y guardadas.\")\n"
      ]
    }
  ],
  "metadata": {
    "colab": {
      "provenance": []
    },
    "kernelspec": {
      "display_name": "Python 3",
      "name": "python3"
    },
    "language_info": {
      "codemirror_mode": {
        "name": "ipython",
        "version": 3
      },
      "file_extension": ".py",
      "mimetype": "text/x-python",
      "name": "python",
      "nbconvert_exporter": "python",
      "pygments_lexer": "ipython3",
      "version": "3.12.2"
    }
  },
  "nbformat": 4,
  "nbformat_minor": 0
}

{
  "cells": [
    {
      "cell_type": "code",
      "execution_count": 3,
      "metadata": {
        "colab": {
          "base_uri": "https://localhost:8080/"
        },
        "id": "kLqFzw4w2KIp",
        "outputId": "886a4ca2-810e-4896-b91b-8fbb10b44aca"
      },
      "outputs": [
        {
          "name": "stdout",
          "output_type": "stream",
          "text": [
            "Imagen no válida detectada: C:/Users/megag/Documents/Curso IA/Curso Avanzado/Deep Learning Clasification/Cat\\666.jpg\n"
          ]
        },
        {
          "name": "stderr",
          "output_type": "stream",
          "text": [
            "c:\\Users\\megag\\AppData\\Local\\Programs\\Python\\Python312\\Lib\\site-packages\\PIL\\TiffImagePlugin.py:870: UserWarning: Truncated File Read\n",
            "  warnings.warn(str(msg))\n"
          ]
        },
        {
          "name": "stdout",
          "output_type": "stream",
          "text": [
            "Pipeline de características completado y datos correctamente distribuidos.\n"
          ]
        }
      ],
      "source": [
        "# Feature Pipeline Notebook - Preparación de Datos\n",
        "import os\n",
        "import pandas as pd\n",
        "from sklearn.model_selection import train_test_split\n",
        "from tensorflow.keras.preprocessing.image import ImageDataGenerator\n",
        "from PIL import Image\n",
        "\n",
        "# 2. Rutas de las carpetas de gatos y perros\n",
        "cat_dir = 'C:/Users/megag/Documents/Curso IA/Curso Avanzado/Deep Learning Clasification/Cat'\n",
        "dog_dir = 'C:/Users/megag/Documents/Curso IA/Curso Avanzado/Deep Learning Clasification/Dog'\n",
        "\n",
        "# 3. Función para verificar si una imagen es válida\n",
        "def is_valid_image(file_path):\n",
        "    try:\n",
        "        img = Image.open(file_path)  # Intentar abrir la imagen\n",
        "        img.verify()  # Verificar que sea válida\n",
        "        return True\n",
        "    except (IOError, SyntaxError):\n",
        "        print(f\"Imagen no válida detectada: {file_path}\")\n",
        "        return False\n",
        "\n",
        "# 4. Crear un DataFrame con rutas de imágenes válidas\n",
        "data = []\n",
        "for label, folder in [('cat', cat_dir), ('dog', dog_dir)]:\n",
        "    for img_name in os.listdir(folder):\n",
        "        img_path = os.path.join(folder, img_name)\n",
        "        if is_valid_image(img_path):  # Solo incluir imágenes válidas\n",
        "            data.append([img_path, label])\n",
        "\n",
        "df = pd.DataFrame(data, columns=['image_path', 'label'])\n",
        "\n",
        "# 5. Revolver los datos antes de la división para asegurarse de que estén distribuidos aleatoriamente\n",
        "df = df.sample(frac=1, random_state=42).reset_index(drop=True)\n",
        "\n",
        "# 6. Dividir en conjuntos de entrenamiento y prueba, asegurando que ambas clases se distribuyan correctamente\n",
        "train_df, test_df = train_test_split(df, test_size=0.2, random_state=42, stratify=df['label'])\n",
        "\n",
        "# 7. Crear generadores de imágenes con aumentación de datos para el conjunto de entrenamiento\n",
        "train_datagen = ImageDataGenerator(rescale=1./255,\n",
        "                                   shear_range=0.2,\n",
        "                                   zoom_range=0.2,\n",
        "                                   horizontal_flip=True)\n",
        "\n",
        "# 8. Generador de imágenes para el conjunto de prueba (sin aumentación)\n",
        "test_datagen = ImageDataGenerator(rescale=1./255)\n",
        "\n",
        "# 9. Guardar los DataFrames para su uso posterior en el pipeline de entrenamiento\n",
        "train_df.to_csv('C:/Users/megag/Documents/Curso IA/Curso Avanzado/Deep Learning Clasification/train_data.csv', index=False)\n",
        "test_df.to_csv('C:/Users/megag/Documents/Curso IA/Curso Avanzado/Deep Learning Clasification/test_data.csv', index=False)\n",
        "\n",
        "print(\"Pipeline de características completado y datos correctamente distribuidos.\")\n",
        "\n"
      ]
    }
  ],
  "metadata": {
    "colab": {
      "provenance": []
    },
    "kernelspec": {
      "display_name": "Python 3",
      "name": "python3"
    },
    "language_info": {
      "codemirror_mode": {
        "name": "ipython",
        "version": 3
      },
      "file_extension": ".py",
      "mimetype": "text/x-python",
      "name": "python",
      "nbconvert_exporter": "python",
      "pygments_lexer": "ipython3",
      "version": "3.12.2"
    }
  },
  "nbformat": 4,
  "nbformat_minor": 0
}
